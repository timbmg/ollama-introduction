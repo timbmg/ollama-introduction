{
 "cells": [
  {
   "cell_type": "markdown",
   "id": "0f9fb6ae",
   "metadata": {},
   "source": [
    "# Ollama Introduction\n",
    "This little notebook is a brief introduction to Ollama, a tool for interacting with open LLMs deployed on Ollama server (the server can also run locally)."
   ]
  },
  {
   "cell_type": "code",
   "execution_count": null,
   "id": "07177e51",
   "metadata": {},
   "outputs": [],
   "source": [
    "from ollama import Client"
   ]
  },
  {
   "cell_type": "code",
   "execution_count": null,
   "id": "a30d13be",
   "metadata": {},
   "outputs": [],
   "source": [
    "# initialize the Ollama client with the specified host\n",
    "ollama_host = \"http://10.167.31.201:11434\"\n",
    "client = Client(host=ollama_host)"
   ]
  },
  {
   "cell_type": "code",
   "execution_count": null,
   "id": "e8d22889",
   "metadata": {},
   "outputs": [],
   "source": [
    "# Get a list of all models that are currently downloaded\n",
    "models = client.list()\n",
    "models.models"
   ]
  },
  {
   "cell_type": "code",
   "execution_count": null,
   "id": "e3f58951",
   "metadata": {},
   "outputs": [],
   "source": [
    "# Send a simple prompt to the model\n",
    "# model: select a model from the list of models obtained from client.list()\n",
    "# messages: a list of messages containing the conversation history. Some models also \n",
    "# have a system message, to add this, make the first message:\n",
    "# {\"role\": \"system\", \"content\": \"Your system message here\"}\n",
    "# Gemma3 does not have a system message, so we can start with the user message.\n",
    "# To add responses from the model, you can use the \"assistant\" role, i.e.:\n",
    "# {\"role\": \"assistant\", \"content\": \"The capital of France is Paris.\"}\n",
    "\n",
    "response = client.chat(\n",
    "    model=\"gemma3:27b\",\n",
    "    messages=[\n",
    "        {\"role\": \"user\", \"content\": \"What is the capital of France?\"},\n",
    "        {\"role\": \"assistant\", \"content\": \"The capital of France is Paris.\"},\n",
    "        {\"role\": \"user\", \"content\": \"And who many people live there?\"},\n",
    "    ],\n",
    ")\n",
    "print(response.message.content)"
   ]
  },
  {
   "cell_type": "code",
   "execution_count": null,
   "id": "537640a3",
   "metadata": {},
   "outputs": [],
   "source": [
    "# To control the decoding parameters, such as temperature, maxium number of tokens, etc.,\n",
    "# you can pass additional parameters to the chat method.\n",
    "# For a complete list of options, check the Ollama API documentation at:\n",
    "# https://github.com/ollama/ollama/blob/main/docs/modelfile.md#valid-parameters-and-values\n",
    "response = client.chat(\n",
    "    model=\"gemma3:27b\",\n",
    "    messages=[\n",
    "        {\"role\": \"user\", \"content\": \"What is the capital of France?\"},\n",
    "        {\"role\": \"assistant\", \"content\": \"The capital of France is Paris.\"},\n",
    "        {\"role\": \"user\", \"content\": \"And who many people live there?\"},\n",
    "    ],\n",
    "    options={\n",
    "        \"temperature\": 0.7,\n",
    "        \"max_tokens\": 100,\n",
    "    }\n",
    ")\n",
    "print(response.message.content)"
   ]
  },
  {
   "cell_type": "code",
   "execution_count": null,
   "id": "61402533",
   "metadata": {},
   "outputs": [],
   "source": [
    "# To force the model to generate a structured response, i.e. a JSON object,\n",
    "# you can define a schema for the response and pass it. The schema can be defined using \n",
    "# Pydantic models and the built-in python types (more complex types are also supported, \n",
    "# check the pydantic documentation for more details).\n",
    "\n",
    "from pydantic import BaseModel\n",
    "class PopulationResponse(BaseModel):\n",
    "    city: str\n",
    "    population: int\n",
    "\n",
    "response = client.chat(\n",
    "    model=\"gemma3:27b\",\n",
    "    messages=[\n",
    "        {\"role\": \"user\", \"content\": \"What is the capital of France?\"},\n",
    "        {\"role\": \"assistant\", \"content\": \"The capital of France is Paris.\"},\n",
    "        {\"role\": \"user\", \"content\": \"And who many people live there?\"},\n",
    "    ],\n",
    "    format=PopulationResponse.model_json_schema()\n",
    ")\n",
    "structured_response = PopulationResponse.model_validate_json(response.message.content)\n",
    "print(structured_response)"
   ]
  }
 ],
 "metadata": {
  "kernelspec": {
   "display_name": ".venv",
   "language": "python",
   "name": "python3"
  },
  "language_info": {
   "codemirror_mode": {
    "name": "ipython",
    "version": 3
   },
   "file_extension": ".py",
   "mimetype": "text/x-python",
   "name": "python",
   "nbconvert_exporter": "python",
   "pygments_lexer": "ipython3",
   "version": "3.10.8"
  }
 },
 "nbformat": 4,
 "nbformat_minor": 5
}
